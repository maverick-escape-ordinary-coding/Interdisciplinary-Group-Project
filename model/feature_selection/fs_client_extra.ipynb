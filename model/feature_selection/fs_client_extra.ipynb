{
 "cells": [
  {
   "cell_type": "code",
   "execution_count": 1,
   "metadata": {},
   "outputs": [],
   "source": [
    "import pandas as pd\n",
    "import numpy as np\n",
    "import psycopg2\n",
    "import configparser\n",
    "from sklearn.model_selection import train_test_split\n",
    "from sklearn.linear_model import Ridge, Lasso\n",
    "from sklearn.preprocessing import MinMaxScaler, LabelEncoder\n",
    "from sklearn.decomposition import PCA\n",
    "import matplotlib.pyplot as plt\n",
    "import itertools\n",
    "import configparser"
   ]
  },
  {
   "cell_type": "code",
   "execution_count": 2,
   "metadata": {},
   "outputs": [],
   "source": [
    "# Import config data\n",
    "config = configparser.ConfigParser()\n",
    "config.read('app_client_extra.ini')\n",
    "db_params = config['DB']\n",
    "app_params = config['APP']"
   ]
  },
  {
   "cell_type": "code",
   "execution_count": 3,
   "metadata": {},
   "outputs": [],
   "source": [
    "#load data from SQL\n",
    "con = psycopg2.connect(host=db_params['host'], database=db_params['db'], user = db_params['user'], password = db_params['password'] )\n",
    "sql = \"SELECT * from %s\" % (db_params['table'])\n",
    "client_df = pd.read_sql_query(sql, con)"
   ]
  },
  {
   "cell_type": "code",
   "execution_count": 4,
   "metadata": {},
   "outputs": [
    {
     "data": {
      "text/plain": [
       "['actual_worked_hours',\n",
       " 'additional_hours_p_t',\n",
       " 'age',\n",
       " 'all_included_premium',\n",
       " 'all_other_included_items',\n",
       " 'annualised_salaries_fte',\n",
       " 'childcare',\n",
       " 'deputising_allowance',\n",
       " 'disability',\n",
       " 'doi_flexi',\n",
       " 'driver_flexi',\n",
       " 'employee',\n",
       " 'ethnic_origin',\n",
       " 'ethnicity',\n",
       " 'flexi_allowance',\n",
       " 'flexi_comms_off',\n",
       " 'flexibility_allowance',\n",
       " 'ft_pt',\n",
       " 'full_time_equivalent',\n",
       " 'gender',\n",
       " 'hourly_pay',\n",
       " 'length_of_service',\n",
       " 'location_allowance',\n",
       " 'main_band_range',\n",
       " 'market_allowance',\n",
       " 'monthly_pay_basic',\n",
       " 'overtime',\n",
       " 'pay_point',\n",
       " 'rank_band',\n",
       " 'salary_annual_35_ft',\n",
       " 'salary_per_month',\n",
       " 'salary_per_week',\n",
       " 'sat_prem_x_5',\n",
       " 'service_related_pay',\n",
       " 'service_start_date',\n",
       " 'shift_disturbance_allowance',\n",
       " 'skill_supplement',\n",
       " 'sun_premium',\n",
       " 'total_allowances',\n",
       " 'typing_proficiency',\n",
       " 'z1_allowance',\n",
       " 'z2_allowance']"
      ]
     },
     "execution_count": 4,
     "metadata": {},
     "output_type": "execute_result"
    }
   ],
   "source": [
    "# To navigate through column\n",
    "sorted(list(client_df.columns))"
   ]
  },
  {
   "cell_type": "code",
   "execution_count": 5,
   "metadata": {},
   "outputs": [],
   "source": [
    "# Remove rows having unbanded salary\n",
    "# client_df.drop(client_df.loc[client_df['main_band_range'] == 'Unbanded'].index, inplace=True)"
   ]
  },
  {
   "cell_type": "code",
   "execution_count": 6,
   "metadata": {},
   "outputs": [
    {
     "data": {
      "text/html": [
       "<div>\n",
       "<style scoped>\n",
       "    .dataframe tbody tr th:only-of-type {\n",
       "        vertical-align: middle;\n",
       "    }\n",
       "\n",
       "    .dataframe tbody tr th {\n",
       "        vertical-align: top;\n",
       "    }\n",
       "\n",
       "    .dataframe thead th {\n",
       "        text-align: right;\n",
       "    }\n",
       "</style>\n",
       "<table border=\"1\" class=\"dataframe\">\n",
       "  <thead>\n",
       "    <tr style=\"text-align: right;\">\n",
       "      <th></th>\n",
       "      <th>employee</th>\n",
       "      <th>main_band_range</th>\n",
       "      <th>rank_band</th>\n",
       "      <th>pay_point</th>\n",
       "      <th>monthly_pay_basic</th>\n",
       "      <th>gender</th>\n",
       "      <th>disability</th>\n",
       "      <th>age</th>\n",
       "      <th>actual_worked_hours</th>\n",
       "      <th>full_time_equivalent</th>\n",
       "      <th>...</th>\n",
       "      <th>location_allowance</th>\n",
       "      <th>all_included_premium</th>\n",
       "      <th>all_other_included_items</th>\n",
       "      <th>flexibility_allowance</th>\n",
       "      <th>annualised_salaries_fte</th>\n",
       "      <th>total_allowances</th>\n",
       "      <th>hourly_pay</th>\n",
       "      <th>salary_per_week</th>\n",
       "      <th>salary_per_month</th>\n",
       "      <th>salary_annual_35_ft</th>\n",
       "    </tr>\n",
       "  </thead>\n",
       "  <tbody>\n",
       "    <tr>\n",
       "      <th>1</th>\n",
       "      <td>2</td>\n",
       "      <td>BB3</td>\n",
       "      <td>Broadband 3</td>\n",
       "      <td>0.0</td>\n",
       "      <td>8142.75</td>\n",
       "      <td>Male</td>\n",
       "      <td>unknown</td>\n",
       "      <td>50.0</td>\n",
       "      <td>36.0</td>\n",
       "      <td>1.00</td>\n",
       "      <td>...</td>\n",
       "      <td>0.00</td>\n",
       "      <td>0.0</td>\n",
       "      <td>0.00</td>\n",
       "      <td>0.0</td>\n",
       "      <td>97713.00</td>\n",
       "      <td>0.00</td>\n",
       "      <td>56.55</td>\n",
       "      <td>1979.14</td>\n",
       "      <td>8576.28</td>\n",
       "      <td>102915.31</td>\n",
       "    </tr>\n",
       "    <tr>\n",
       "      <th>20</th>\n",
       "      <td>21</td>\n",
       "      <td>Band A</td>\n",
       "      <td>Band S</td>\n",
       "      <td>5.0</td>\n",
       "      <td>6802.92</td>\n",
       "      <td>Female</td>\n",
       "      <td>No</td>\n",
       "      <td>58.0</td>\n",
       "      <td>36.0</td>\n",
       "      <td>1.00</td>\n",
       "      <td>...</td>\n",
       "      <td>218.58</td>\n",
       "      <td>0.0</td>\n",
       "      <td>0.00</td>\n",
       "      <td>0.0</td>\n",
       "      <td>84258.00</td>\n",
       "      <td>437.16</td>\n",
       "      <td>47.24</td>\n",
       "      <td>1653.49</td>\n",
       "      <td>7165.11</td>\n",
       "      <td>85981.35</td>\n",
       "    </tr>\n",
       "    <tr>\n",
       "      <th>30</th>\n",
       "      <td>31</td>\n",
       "      <td>Band A</td>\n",
       "      <td>Band H</td>\n",
       "      <td>6.0</td>\n",
       "      <td>6438.61</td>\n",
       "      <td>Female</td>\n",
       "      <td>unknown</td>\n",
       "      <td>52.0</td>\n",
       "      <td>31.5</td>\n",
       "      <td>0.88</td>\n",
       "      <td>...</td>\n",
       "      <td>191.26</td>\n",
       "      <td>0.0</td>\n",
       "      <td>0.00</td>\n",
       "      <td>0.0</td>\n",
       "      <td>92164.94</td>\n",
       "      <td>473.01</td>\n",
       "      <td>51.10</td>\n",
       "      <td>1788.50</td>\n",
       "      <td>7750.18</td>\n",
       "      <td>93002.14</td>\n",
       "    </tr>\n",
       "    <tr>\n",
       "      <th>39</th>\n",
       "      <td>40</td>\n",
       "      <td>Band A</td>\n",
       "      <td>Band S</td>\n",
       "      <td>3.0</td>\n",
       "      <td>6396.67</td>\n",
       "      <td>Female</td>\n",
       "      <td>No</td>\n",
       "      <td>54.0</td>\n",
       "      <td>36.0</td>\n",
       "      <td>1.00</td>\n",
       "      <td>...</td>\n",
       "      <td>218.58</td>\n",
       "      <td>0.0</td>\n",
       "      <td>406.25</td>\n",
       "      <td>0.0</td>\n",
       "      <td>85649.04</td>\n",
       "      <td>959.33</td>\n",
       "      <td>44.42</td>\n",
       "      <td>1554.75</td>\n",
       "      <td>6737.23</td>\n",
       "      <td>80846.80</td>\n",
       "    </tr>\n",
       "    <tr>\n",
       "      <th>70</th>\n",
       "      <td>70</td>\n",
       "      <td>Band A</td>\n",
       "      <td>Band S</td>\n",
       "      <td>5.0</td>\n",
       "      <td>6802.92</td>\n",
       "      <td>Male</td>\n",
       "      <td>unknown</td>\n",
       "      <td>48.0</td>\n",
       "      <td>36.0</td>\n",
       "      <td>1.00</td>\n",
       "      <td>...</td>\n",
       "      <td>218.58</td>\n",
       "      <td>0.0</td>\n",
       "      <td>0.00</td>\n",
       "      <td>0.0</td>\n",
       "      <td>85649.04</td>\n",
       "      <td>553.08</td>\n",
       "      <td>47.24</td>\n",
       "      <td>1653.49</td>\n",
       "      <td>7165.11</td>\n",
       "      <td>85981.35</td>\n",
       "    </tr>\n",
       "    <tr>\n",
       "      <th>...</th>\n",
       "      <td>...</td>\n",
       "      <td>...</td>\n",
       "      <td>...</td>\n",
       "      <td>...</td>\n",
       "      <td>...</td>\n",
       "      <td>...</td>\n",
       "      <td>...</td>\n",
       "      <td>...</td>\n",
       "      <td>...</td>\n",
       "      <td>...</td>\n",
       "      <td>...</td>\n",
       "      <td>...</td>\n",
       "      <td>...</td>\n",
       "      <td>...</td>\n",
       "      <td>...</td>\n",
       "      <td>...</td>\n",
       "      <td>...</td>\n",
       "      <td>...</td>\n",
       "      <td>...</td>\n",
       "      <td>...</td>\n",
       "      <td>...</td>\n",
       "    </tr>\n",
       "    <tr>\n",
       "      <th>8032</th>\n",
       "      <td>8030</td>\n",
       "      <td>Band A</td>\n",
       "      <td>Band A</td>\n",
       "      <td>5.0</td>\n",
       "      <td>6030.75</td>\n",
       "      <td>Female</td>\n",
       "      <td>No</td>\n",
       "      <td>49.0</td>\n",
       "      <td>36.0</td>\n",
       "      <td>1.00</td>\n",
       "      <td>...</td>\n",
       "      <td>218.58</td>\n",
       "      <td>0.0</td>\n",
       "      <td>416.67</td>\n",
       "      <td>0.0</td>\n",
       "      <td>81171.00</td>\n",
       "      <td>952.08</td>\n",
       "      <td>41.88</td>\n",
       "      <td>1465.81</td>\n",
       "      <td>6351.83</td>\n",
       "      <td>76221.98</td>\n",
       "    </tr>\n",
       "    <tr>\n",
       "      <th>8093</th>\n",
       "      <td>8093</td>\n",
       "      <td>Band A</td>\n",
       "      <td>Band A</td>\n",
       "      <td>6.0</td>\n",
       "      <td>6289.92</td>\n",
       "      <td>Female</td>\n",
       "      <td>No</td>\n",
       "      <td>44.0</td>\n",
       "      <td>36.0</td>\n",
       "      <td>1.00</td>\n",
       "      <td>...</td>\n",
       "      <td>218.58</td>\n",
       "      <td>0.0</td>\n",
       "      <td>685.08</td>\n",
       "      <td>0.0</td>\n",
       "      <td>86322.96</td>\n",
       "      <td>1122.24</td>\n",
       "      <td>43.68</td>\n",
       "      <td>1528.80</td>\n",
       "      <td>6624.80</td>\n",
       "      <td>79497.60</td>\n",
       "    </tr>\n",
       "    <tr>\n",
       "      <th>8113</th>\n",
       "      <td>8113</td>\n",
       "      <td>Band A</td>\n",
       "      <td>Band S</td>\n",
       "      <td>4.0</td>\n",
       "      <td>6587.83</td>\n",
       "      <td>Male</td>\n",
       "      <td>No</td>\n",
       "      <td>47.0</td>\n",
       "      <td>36.0</td>\n",
       "      <td>1.00</td>\n",
       "      <td>...</td>\n",
       "      <td>218.58</td>\n",
       "      <td>0.0</td>\n",
       "      <td>0.00</td>\n",
       "      <td>0.0</td>\n",
       "      <td>81676.92</td>\n",
       "      <td>437.16</td>\n",
       "      <td>45.75</td>\n",
       "      <td>1601.21</td>\n",
       "      <td>6938.57</td>\n",
       "      <td>83262.85</td>\n",
       "    </tr>\n",
       "    <tr>\n",
       "      <th>8114</th>\n",
       "      <td>8114</td>\n",
       "      <td>BB2</td>\n",
       "      <td>Broadband 2</td>\n",
       "      <td>0.0</td>\n",
       "      <td>9935.58</td>\n",
       "      <td>Male</td>\n",
       "      <td>No</td>\n",
       "      <td>61.0</td>\n",
       "      <td>36.0</td>\n",
       "      <td>1.00</td>\n",
       "      <td>...</td>\n",
       "      <td>0.00</td>\n",
       "      <td>0.0</td>\n",
       "      <td>416.67</td>\n",
       "      <td>0.0</td>\n",
       "      <td>123641.04</td>\n",
       "      <td>416.67</td>\n",
       "      <td>69.00</td>\n",
       "      <td>2414.90</td>\n",
       "      <td>10464.56</td>\n",
       "      <td>125574.69</td>\n",
       "    </tr>\n",
       "    <tr>\n",
       "      <th>8115</th>\n",
       "      <td>8115</td>\n",
       "      <td>BB3</td>\n",
       "      <td>Broadband 3</td>\n",
       "      <td>0.0</td>\n",
       "      <td>7648.58</td>\n",
       "      <td>Female</td>\n",
       "      <td>No</td>\n",
       "      <td>44.0</td>\n",
       "      <td>36.0</td>\n",
       "      <td>1.00</td>\n",
       "      <td>...</td>\n",
       "      <td>0.00</td>\n",
       "      <td>0.0</td>\n",
       "      <td>833.33</td>\n",
       "      <td>0.0</td>\n",
       "      <td>101782.92</td>\n",
       "      <td>833.33</td>\n",
       "      <td>53.12</td>\n",
       "      <td>1859.03</td>\n",
       "      <td>8055.80</td>\n",
       "      <td>96669.55</td>\n",
       "    </tr>\n",
       "  </tbody>\n",
       "</table>\n",
       "<p>156 rows × 42 columns</p>\n",
       "</div>"
      ],
      "text/plain": [
       "      employee main_band_range    rank_band  pay_point  monthly_pay_basic  \\\n",
       "1            2             BB3  Broadband 3        0.0            8142.75   \n",
       "20          21          Band A       Band S        5.0            6802.92   \n",
       "30          31          Band A       Band H        6.0            6438.61   \n",
       "39          40          Band A       Band S        3.0            6396.67   \n",
       "70          70          Band A       Band S        5.0            6802.92   \n",
       "...        ...             ...          ...        ...                ...   \n",
       "8032      8030          Band A       Band A        5.0            6030.75   \n",
       "8093      8093          Band A       Band A        6.0            6289.92   \n",
       "8113      8113          Band A       Band S        4.0            6587.83   \n",
       "8114      8114             BB2  Broadband 2        0.0            9935.58   \n",
       "8115      8115             BB3  Broadband 3        0.0            7648.58   \n",
       "\n",
       "      gender disability   age  actual_worked_hours  full_time_equivalent  ...  \\\n",
       "1       Male    unknown  50.0                 36.0                  1.00  ...   \n",
       "20    Female         No  58.0                 36.0                  1.00  ...   \n",
       "30    Female    unknown  52.0                 31.5                  0.88  ...   \n",
       "39    Female         No  54.0                 36.0                  1.00  ...   \n",
       "70      Male    unknown  48.0                 36.0                  1.00  ...   \n",
       "...      ...        ...   ...                  ...                   ...  ...   \n",
       "8032  Female         No  49.0                 36.0                  1.00  ...   \n",
       "8093  Female         No  44.0                 36.0                  1.00  ...   \n",
       "8113    Male         No  47.0                 36.0                  1.00  ...   \n",
       "8114    Male         No  61.0                 36.0                  1.00  ...   \n",
       "8115  Female         No  44.0                 36.0                  1.00  ...   \n",
       "\n",
       "     location_allowance  all_included_premium  all_other_included_items  \\\n",
       "1                  0.00                   0.0                      0.00   \n",
       "20               218.58                   0.0                      0.00   \n",
       "30               191.26                   0.0                      0.00   \n",
       "39               218.58                   0.0                    406.25   \n",
       "70               218.58                   0.0                      0.00   \n",
       "...                 ...                   ...                       ...   \n",
       "8032             218.58                   0.0                    416.67   \n",
       "8093             218.58                   0.0                    685.08   \n",
       "8113             218.58                   0.0                      0.00   \n",
       "8114               0.00                   0.0                    416.67   \n",
       "8115               0.00                   0.0                    833.33   \n",
       "\n",
       "     flexibility_allowance annualised_salaries_fte  total_allowances  \\\n",
       "1                      0.0                97713.00              0.00   \n",
       "20                     0.0                84258.00            437.16   \n",
       "30                     0.0                92164.94            473.01   \n",
       "39                     0.0                85649.04            959.33   \n",
       "70                     0.0                85649.04            553.08   \n",
       "...                    ...                     ...               ...   \n",
       "8032                   0.0                81171.00            952.08   \n",
       "8093                   0.0                86322.96           1122.24   \n",
       "8113                   0.0                81676.92            437.16   \n",
       "8114                   0.0               123641.04            416.67   \n",
       "8115                   0.0               101782.92            833.33   \n",
       "\n",
       "      hourly_pay  salary_per_week  salary_per_month  salary_annual_35_ft  \n",
       "1          56.55          1979.14           8576.28            102915.31  \n",
       "20         47.24          1653.49           7165.11             85981.35  \n",
       "30         51.10          1788.50           7750.18             93002.14  \n",
       "39         44.42          1554.75           6737.23             80846.80  \n",
       "70         47.24          1653.49           7165.11             85981.35  \n",
       "...          ...              ...               ...                  ...  \n",
       "8032       41.88          1465.81           6351.83             76221.98  \n",
       "8093       43.68          1528.80           6624.80             79497.60  \n",
       "8113       45.75          1601.21           6938.57             83262.85  \n",
       "8114       69.00          2414.90          10464.56            125574.69  \n",
       "8115       53.12          1859.03           8055.80             96669.55  \n",
       "\n",
       "[156 rows x 42 columns]"
      ]
     },
     "execution_count": 6,
     "metadata": {},
     "output_type": "execute_result"
    }
   ],
   "source": [
    "client_df[client_df['annualised_salaries_fte'] > 80000]"
   ]
  },
  {
   "cell_type": "code",
   "execution_count": 7,
   "metadata": {},
   "outputs": [
    {
     "data": {
      "text/plain": [
       "4502.750947559156"
      ]
     },
     "execution_count": 7,
     "metadata": {},
     "output_type": "execute_result"
    }
   ],
   "source": [
    "'''\n",
    "Avg diff between annualised_salaries_fte (Gapsquare calc of annual FTE) \n",
    "and salary_annual_35_ft (Our calc of annual FTE) \n",
    "''' \n",
    "(client_df['annualised_salaries_fte'] - client_df['salary_annual_35_ft']).mean()"
   ]
  },
  {
   "cell_type": "code",
   "execution_count": 8,
   "metadata": {},
   "outputs": [
    {
     "data": {
      "text/plain": [
       "361385968.63"
      ]
     },
     "execution_count": 8,
     "metadata": {},
     "output_type": "execute_result"
    }
   ],
   "source": [
    "(client_df['annualised_salaries_fte']).sum()"
   ]
  },
  {
   "cell_type": "code",
   "execution_count": 9,
   "metadata": {},
   "outputs": [
    {
     "data": {
      "text/plain": [
       "319141159.24"
      ]
     },
     "execution_count": 9,
     "metadata": {},
     "output_type": "execute_result"
    }
   ],
   "source": [
    "(client_df['salary_annual_35_ft']).sum()"
   ]
  },
  {
   "cell_type": "code",
   "execution_count": 10,
   "metadata": {},
   "outputs": [],
   "source": [
    "'''\n",
    "1. Create annual FTE if not exist\n",
    "2. Store annual FTE to columns '_annual_salary_fte' and '_total_annual_pkg'\n",
    "'''\n",
    "if ('weekly_hours_column' in app_params):\n",
    "    client_df['_annual_salary_fte'] = client_df[app_params['actual_salary_column']] * (int(app_params['fte_hours']) / client_df[app_params['weekly_hours_column']])\n",
    "else:\n",
    "    client_df['_annual_salary_fte'] = client_df[app_params['actual_salary_column']]\n",
    "\n",
    "client_df['_total_annual_pkg'] = client_df[app_params['actual_salary_column']]\n",
    "\n"
   ]
  },
  {
   "cell_type": "code",
   "execution_count": 11,
   "metadata": {},
   "outputs": [],
   "source": [
    "'''\n",
    "1. Consider all columns related to allowances/benefits\n",
    "2. Convert to float (if required), add to existing _total_annual_pkg columns\n",
    "'''\n",
    "\n",
    "if ('benefits_column_list' in app_params):\n",
    "    benefit_columns = app_params['benefits_column_list'].split(',')\n",
    "    benefit_columns = [s.strip() for s in benefit_columns]\n",
    "    for benefit_column in benefit_columns:\n",
    "            try:\n",
    "                client_df[benefit_column].apply(float)\n",
    "                client_df['_total_annual_pkg'] += client_df[benefit_column]\n",
    "            except:\n",
    "                print('Float conversion failed')"
   ]
  },
  {
   "cell_type": "code",
   "execution_count": 12,
   "metadata": {},
   "outputs": [],
   "source": [
    "'''\n",
    "Calculate total annual package for FTE\n",
    "'''\n",
    "if ('weekly_hours_column' in app_params):\n",
    "    client_df['_total_annual_pkg_fte'] = client_df['_total_annual_pkg'] * (int(app_params['fte_hours']) / client_df[app_params['weekly_hours_column']])\n",
    "else: \n",
    "    client_df['_total_annual_pkg_fte'] = client_df['_total_annual_pkg']"
   ]
  },
  {
   "cell_type": "code",
   "execution_count": 13,
   "metadata": {},
   "outputs": [
    {
     "data": {
      "text/plain": [
       "[<matplotlib.lines.Line2D at 0x7faca8169880>]"
      ]
     },
     "execution_count": 13,
     "metadata": {},
     "output_type": "execute_result"
    },
    {
     "data": {
      "image/png": "[encoded data removed]",
      "text/plain": [
       "<Figure size 432x288 with 1 Axes>"
      ]
     },
     "metadata": {
      "needs_background": "light"
     },
     "output_type": "display_data"
    }
   ],
   "source": [
    "# Check distribution\n",
    "plt.plot(client_df['_total_annual_pkg_fte'] )"
   ]
  },
  {
   "cell_type": "code",
   "execution_count": 14,
   "metadata": {},
   "outputs": [],
   "source": [
    "'''\n",
    "treat outliers and scale total package if needed\n",
    "'''\n",
    "if ('outlier_percentiles' in app_params):\n",
    "    values = [s.strip() for s in app_params['outlier_percentiles'].split(',')]\n",
    "    low, high = client_df['_total_annual_pkg_fte'].quantile( [float(values[0]), float(values[1])] )\n",
    "    client_df = client_df.query(\"_total_annual_pkg_fte >= {} & _total_annual_pkg_fte <= {}\".format(low, high))\n",
    "    #reset index, make it linear again for ease of joining below\n",
    "    client_df = client_df.reset_index()"
   ]
  },
  {
   "cell_type": "code",
   "execution_count": 15,
   "metadata": {},
   "outputs": [],
   "source": [
    "'''\n",
    "note this scales directly on the original dataframe, use only for feature selection.\n",
    "set to false when predicting.\n",
    "'''\n",
    "scaler = MinMaxScaler(feature_range=(0, 1))\n",
    "# if ('scale_target' in app_params and app_params['scale_target'].lower() == 'true'):\n",
    "#     client_df['_total_annual_pkg_fte'] = scaler.fit_transform(client_df['_total_annual_pkg_fte'].values.reshape(-1, 1))"
   ]
  },
  {
   "cell_type": "code",
   "execution_count": 16,
   "metadata": {},
   "outputs": [],
   "source": [
    "'''\n",
    "One hot encoded features\n",
    "'''\n",
    "df_oh_cat_features = df_label_cat_features = df_num_features = None\n",
    "\n",
    "if ('oh_cat_feature_list' in app_params):\n",
    "    oh_cat_features = app_params['oh_cat_feature_list'].split(',')\n",
    "    oh_cat_features = [s.strip() for s in oh_cat_features]\n",
    "    df_oh_cat_features = pd.get_dummies(data=client_df[oh_cat_features], drop_first=True)\n",
    "    if ('scale_cat_features' in app_params and app_params['scale_cat_features'].lower() == 'true'):\n",
    "        for column in df_oh_cat_features.columns:\n",
    "            df_oh_cat_features[column] = scaler.fit_transform(df_oh_cat_features[column].values.reshape(-1, 1)) \n",
    "            \n",
    "            "
   ]
  },
  {
   "cell_type": "code",
   "execution_count": 17,
   "metadata": {},
   "outputs": [],
   "source": [
    "'''\n",
    "Label encoded features\n",
    "'''\n",
    "if ('label_cat_feature_list' in app_params):\n",
    "    label_cat_features = app_params['label_cat_feature_list'].split(',')\n",
    "    label_cat_features = [s.strip() for s in label_cat_features]\n",
    "    le = LabelEncoder()\n",
    "    for feature in label_cat_features:\n",
    "        if (type(df_label_cat_features) != pd.DataFrame):\n",
    "            df_label_cat_features = pd.DataFrame()\n",
    "        le.fit(client_df[feature])\n",
    "        df_label_cat_features[feature] = le.transform(client_df[feature])\n",
    "        if ('scale_label_features' in app_params and app_params['scale_label_features'].lower() == 'true'):\n",
    "             df_label_cat_features[feature] = scaler.fit_transform(df_label_cat_features[feature].values.reshape(-1, 1)) "
   ]
  },
  {
   "cell_type": "code",
   "execution_count": 18,
   "metadata": {},
   "outputs": [
    {
     "name": "stderr",
     "output_type": "stream",
     "text": [
      "<ipython-input-18-38481d6adf0e>:10: SettingWithCopyWarning: \n",
      "A value is trying to be set on a copy of a slice from a DataFrame.\n",
      "Try using .loc[row_indexer,col_indexer] = value instead\n",
      "\n",
      "See the caveats in the documentation: https://pandas.pydata.org/pandas-docs/stable/user_guide/indexing.html#returning-a-view-versus-a-copy\n",
      "  df_num_features[feature] = scaler.fit_transform(df_num_features[feature].values.reshape(-1, 1))\n",
      "<ipython-input-18-38481d6adf0e>:10: SettingWithCopyWarning: \n",
      "A value is trying to be set on a copy of a slice from a DataFrame.\n",
      "Try using .loc[row_indexer,col_indexer] = value instead\n",
      "\n",
      "See the caveats in the documentation: https://pandas.pydata.org/pandas-docs/stable/user_guide/indexing.html#returning-a-view-versus-a-copy\n",
      "  df_num_features[feature] = scaler.fit_transform(df_num_features[feature].values.reshape(-1, 1))\n",
      "<ipython-input-18-38481d6adf0e>:10: SettingWithCopyWarning: \n",
      "A value is trying to be set on a copy of a slice from a DataFrame.\n",
      "Try using .loc[row_indexer,col_indexer] = value instead\n",
      "\n",
      "See the caveats in the documentation: https://pandas.pydata.org/pandas-docs/stable/user_guide/indexing.html#returning-a-view-versus-a-copy\n",
      "  df_num_features[feature] = scaler.fit_transform(df_num_features[feature].values.reshape(-1, 1))\n"
     ]
    }
   ],
   "source": [
    "'''\n",
    "Numerical features\n",
    "'''\n",
    "if ('num_feature_list' in app_params):\n",
    "    num_features = app_params['num_feature_list'].split(',')\n",
    "    num_features = [s.strip() for s in num_features]\n",
    "    df_num_features = client_df[num_features]\n",
    "    if ('scale_num_features' in app_params and app_params['scale_num_features'].lower() == 'true'):\n",
    "        for feature in num_features:\n",
    "            df_num_features[feature] = scaler.fit_transform(df_num_features[feature].values.reshape(-1, 1))"
   ]
  },
  {
   "cell_type": "code",
   "execution_count": 19,
   "metadata": {},
   "outputs": [],
   "source": [
    "'''\n",
    "Create X from our three feature dataframes if they have been initialised\n",
    "'''\n",
    "X = pd.DataFrame()\n",
    "for features in (df_oh_cat_features, df_num_features, df_label_cat_features): #\n",
    "    if type(features) == pd.DataFrame:\n",
    "        if (X.empty):\n",
    "            X = features\n",
    "        else:    \n",
    "            X = X.join(features)\n",
    "            "
   ]
  },
  {
   "cell_type": "code",
   "execution_count": 20,
   "metadata": {},
   "outputs": [],
   "source": [
    "'''\n",
    "1. Create variable splits\n",
    "2. Using the splits, create training and testing set\n",
    "'''\n",
    "drop = False\n",
    "if ('train_split_column' in app_params):\n",
    "    if (app_params['train_split_column'] not in X):\n",
    "        drop = True\n",
    "        X[app_params['train_split_column']] = client_df[app_params['train_split_column']]\n",
    "    X = X.query(\"{} == '{}'\".format(app_params['train_split_column'], app_params['train_split_value']))\n",
    "    y = client_df.query(\"{} == '{}'\".format(app_params['train_split_column'], app_params['train_split_value']))['_total_annual_pkg_fte']\n",
    "    if drop:\n",
    "        X.drop(app_params['train_split_column'], axis = 1, inplace=True )\n",
    "else:\n",
    "    y = client_df['_total_annual_pkg_fte']\n",
    "    \n",
    "X_train, X_test, y_train, y_test = train_test_split(X, y, random_state=0)    "
   ]
  },
  {
   "cell_type": "code",
   "execution_count": 21,
   "metadata": {},
   "outputs": [
    {
     "data": {
      "text/plain": [
       "(6371, 8)"
      ]
     },
     "execution_count": 21,
     "metadata": {},
     "output_type": "execute_result"
    }
   ],
   "source": [
    "X_train.shape"
   ]
  },
  {
   "cell_type": "code",
   "execution_count": 22,
   "metadata": {},
   "outputs": [
    {
     "data": {
      "text/plain": [
       "(2124, 8)"
      ]
     },
     "execution_count": 22,
     "metadata": {},
     "output_type": "execute_result"
    }
   ],
   "source": [
    "X_test.shape"
   ]
  },
  {
   "cell_type": "code",
   "execution_count": 23,
   "metadata": {},
   "outputs": [
    {
     "name": "stdout",
     "output_type": "stream",
     "text": [
      "Lasso train/test scores for alpha=1 0.77/0.77\n",
      "Coefs used=8.00\n",
      "Lasso train/test scores for alpha=0.1 0.77/0.77\n",
      "Coefs used=8.00\n",
      "Lasso train/test scores for alpha=0.01 0.77/0.77\n",
      "Coefs used=8.00\n",
      "Lasso train/test scores for alpha=0.0001 0.77/0.77\n",
      "Coefs used=8.00\n"
     ]
    },
    {
     "data": {
      "text/plain": [
       "<function matplotlib.pyplot.show(close=None, block=None)>"
      ]
     },
     "execution_count": 23,
     "metadata": {},
     "output_type": "execute_result"
    },
    {
     "data": {
      "image/png": "[encoded data removed]",
      "text/plain": [
       "<Figure size 432x288 with 1 Axes>"
      ]
     },
     "metadata": {
      "needs_background": "light"
     },
     "output_type": "display_data"
    }
   ],
   "source": [
    "'''\n",
    "LASSO\n",
    "'''\n",
    "markers = itertools.cycle(('+', 'o', '*', 'X', 'd')) \n",
    "alphas = [1, 0.1, 0.01, 0.0001]\n",
    "\n",
    "for alpha in alphas:  \n",
    "    lasso = Lasso(alpha=alpha, max_iter=10e5)\n",
    "    lasso.fit(X_train,y_train)\n",
    "    train_score=lasso.score(X_train,y_train)\n",
    "    test_score=lasso.score(X_test,y_test)\n",
    "    coeff_used = np.sum(lasso.coef_!=0)\n",
    "    print(\"Lasso train/test scores for alpha={} {:.2f}/{:.2f}\".format(alpha, train_score, test_score))\n",
    "    print(\"Coefs used={:.2f}\".format(coeff_used))\n",
    "    plt.plot(lasso.coef_, marker=next(markers), alpha = 0.7, linestyle='none',label=r'alpha = {}'.format(alpha))\n",
    "plt.xlabel('Coefficient Index',fontsize=16)\n",
    "plt.ylabel('Coefficient Magnitude',fontsize=16)\n",
    "plt.legend(fontsize=13,loc=2)\n",
    "plt.show"
   ]
  },
  {
   "cell_type": "code",
   "execution_count": 24,
   "metadata": {},
   "outputs": [
    {
     "name": "stdout",
     "output_type": "stream",
     "text": [
      "Ridge train/test scores for alpha=0.01 0.77/0.77\n",
      "Ridge train/test scores for alpha=1.00 0.77/0.77\n",
      "Ridge train/test scores for alpha=10.00 0.76/0.77\n",
      "Ridge train/test scores for alpha=100.00 0.68/0.71\n"
     ]
    },
    {
     "data": {
      "image/png": "[encoded data removed]",
      "text/plain": [
       "<Figure size 432x288 with 1 Axes>"
      ]
     },
     "metadata": {
      "needs_background": "light"
     },
     "output_type": "display_data"
    }
   ],
   "source": [
    "'''\n",
    "RIDGE\n",
    "'''\n",
    "markers = itertools.cycle(('+', 'o', '*', 'X', 'd')) \n",
    "alphas = [0.01, 1, 10, 100]\n",
    "\n",
    "for alpha in alphas:    \n",
    "    ridge = Ridge(alpha=alpha)\n",
    "    ridge.fit(X_train, y_train)\n",
    "    train_score = ridge.score(X_train,y_train)\n",
    "    test_score = ridge.score(X_test, y_test)\n",
    "    print(\"Ridge train/test scores for alpha={:.2f} {:.2f}/{:.2f}\".format(alpha, train_score, test_score))\n",
    "    plt.plot(ridge.coef_, marker=next(markers), linestyle='none',label=r'alpha = {}'.format(alpha))\n",
    "\n",
    "plt.xlabel('Coefficient Index',fontsize=16)\n",
    "plt.ylabel('Coefficient Magnitude',fontsize=16)\n",
    "plt.legend(fontsize=13,loc=2)\n",
    "plt.show()"
   ]
  },
  {
   "cell_type": "code",
   "execution_count": 25,
   "metadata": {},
   "outputs": [
    {
     "data": {
      "image/png": "[encoded data removed]",
      "text/plain": [
       "<Figure size 576x576 with 1 Axes>"
      ]
     },
     "metadata": {
      "needs_background": "light"
     },
     "output_type": "display_data"
    }
   ],
   "source": [
    "\n",
    "''' PCA - total annual package fte '''\n",
    "\n",
    "#create some targets\n",
    "target_ranges = [(10,39), (40,69), (70,99), (100,129), (130,159), (160,189), (190,219), (220,9999)]\n",
    "targets = set() \n",
    "def get_pkg_range(package):\n",
    "    thou = (int((package)/10000))*10\n",
    "    for target_range in target_ranges:\n",
    "        if (thou >= target_range[0] and thou <= target_range[1]):\n",
    "            range = str(target_range[0]) + \" - \" + str(target_range[1])\n",
    "            targets.add(range)\n",
    "            return (range)\n",
    "\n",
    "client_df['_total_annual_pkg_fte_range'] = client_df['_total_annual_pkg_fte'].apply(get_pkg_range)\n",
    "\n",
    "n = 2 \n",
    "\n",
    "pca = PCA(n_components=n)\n",
    "\n",
    "columns=[]\n",
    "for column_no in range(1,n+1):\n",
    "    columns.append('PC {}'.format(column_no))\n",
    "\n",
    "pc = pca.fit_transform(X)\n",
    "\n",
    "#merge the targets back in\n",
    "final_df = pd.DataFrame(data = pc, columns = columns)\n",
    "\n",
    "final_df = pd.concat([final_df, client_df[['_total_annual_pkg_fte_range']]], axis = 1)\n",
    "\n",
    "fig = plt.figure(figsize = (8,8))\n",
    "ax = fig.add_subplot(1,1,1) \n",
    "ax.set_xlabel('Principal Component 1', fontsize = 15)\n",
    "ax.set_ylabel('Principal Component 2', fontsize = 15)\n",
    "ax.set_title('2 component PCA', fontsize = 20)\n",
    "#colors = ['r', 'g', 'b']\n",
    "for target in targets:\n",
    "    indicesToKeep = final_df['_total_annual_pkg_fte_range'] == target\n",
    "    ax.scatter(final_df.loc[indicesToKeep, 'PC 1']\n",
    "               , final_df.loc[indicesToKeep, 'PC 2']        \n",
    "               , s = 50)\n",
    "ax.legend(targets)\n",
    "ax.grid()\n",
    "\n",
    "# %%\n",
    "\n"
   ]
  }
 ],
 "metadata": {
  "kernelspec": {
   "display_name": "university",
   "language": "python",
   "name": "university"
  },
  "language_info": {
   "codemirror_mode": {
    "name": "ipython",
    "version": 3
   },
   "file_extension": ".py",
   "mimetype": "text/x-python",
   "name": "python",
   "nbconvert_exporter": "python",
   "pygments_lexer": "ipython3",
   "version": "3.8.2"
  }
 },
 "nbformat": 4,
 "nbformat_minor": 4
}
